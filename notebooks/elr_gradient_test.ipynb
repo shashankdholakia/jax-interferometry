{
 "cells": [
  {
   "cell_type": "code",
   "execution_count": 1,
   "id": "fb4527c7",
   "metadata": {},
   "outputs": [
    {
     "name": "stderr",
     "output_type": "stream",
     "text": [
      "<frozen importlib._bootstrap>:228: RuntimeWarning: scipy._lib.messagestream.MessageStream size changed, may indicate binary incompatibility. Expected 56 from C header, got 64 from PyObject\n"
     ]
    }
   ],
   "source": [
    "import sys\n",
    "sys.path.append(\"..\")\n",
    "\n",
    "#import the jaxified ELR model\n",
    "from core import ELR, utils\n",
    "\n",
    "import jax.numpy as jnp\n",
    "import jax\n",
    "import numpy as np\n",
    "import matplotlib.pyplot as plt\n",
    "from jax import grad, jit, vmap, jacfwd, jacrev"
   ]
  },
  {
   "cell_type": "code",
   "execution_count": 2,
   "id": "177e88a4",
   "metadata": {},
   "outputs": [],
   "source": [
    "from scipy.special import j1\n",
    "mas2rad = jnp.pi / 180.0 / 3600.0/ 1000.0\n",
    "\n",
    "def airy(w, lam, diam):\n",
    "    '''Airy function for a circular aperture, evaluated on baselines uv (m) with diameter diam (mas) at wavelength lam (m)'''\n",
    "    \n",
    "    r = w/lam\n",
    "\n",
    "    d = diam*mas2rad\n",
    "\n",
    "    return 2 * j1(jnp.pi * r * d) / (jnp.pi * r * d)"
   ]
  },
  {
   "cell_type": "code",
   "execution_count": 3,
   "id": "71d6f792",
   "metadata": {},
   "outputs": [],
   "source": [
    "u, v = jnp.linspace(-330,330,64), jnp.linspace(-330,330,64)\n",
    "uu, vv = np.meshgrid(np.linspace(-330,330,64),np.linspace(-330,330,64))\n",
    "uvgrid = np.vstack((uu.flatten(),vv.flatten())).T\n",
    "\n",
    "rr = ELR.ELR_Model(51,uvgrid,1e-6)\n"
   ]
  },
  {
   "cell_type": "code",
   "execution_count": 4,
   "id": "03780d7a",
   "metadata": {},
   "outputs": [],
   "source": [
    "ft = rr(0,1,jnp.pi/4,0)"
   ]
  },
  {
   "cell_type": "code",
   "execution_count": 5,
   "id": "55aa698d",
   "metadata": {},
   "outputs": [
    {
     "data": {
      "text/plain": [
       "[<matplotlib.lines.Line2D at 0x1437881f0>]"
      ]
     },
     "execution_count": 5,
     "metadata": {},
     "output_type": "execute_result"
    },
    {
     "data": {
      "image/png": "[encoded data removed]",
      "text/plain": [
       "<Figure size 640x480 with 1 Axes>"
      ]
     },
     "metadata": {},
     "output_type": "display_data"
    }
   ],
   "source": [
    "wgrid = np.sqrt(uvgrid[:,0]**2 + uvgrid[:,1]**2)\n",
    "v2, phase = jnp.abs(ft)**2, jnp.angle(ft)\n",
    "plt.plot(wgrid,v2,'k.', label='ELR Model')"
   ]
  },
  {
   "cell_type": "code",
   "execution_count": 10,
   "id": "fa3575ac",
   "metadata": {},
   "outputs": [
    {
     "name": "stdout",
     "output_type": "stream",
     "text": [
      "2.25 s ± 4.38 ms per loop (mean ± std. dev. of 7 runs, 1 loop each)\n"
     ]
    }
   ],
   "source": [
    "%%timeit\n",
    "ELRgrad = vmap(lambda a,b,c,d: jax.vjp(rr,a,b,c,d)[0],in_axes=[None,0,None,None])(0.0,jnp.linspace(0.001,10,10),0.0,0.0)"
   ]
  },
  {
   "cell_type": "code",
   "execution_count": 11,
   "id": "f49c19c8",
   "metadata": {},
   "outputs": [],
   "source": [
    "ELRgrad = vmap(lambda a,b,c,d: jax.vjp(rr,a,b,c,d)[0],in_axes=[None,0,None,None])(0.0,jnp.linspace(0.001,10,10),0.0,0.0)"
   ]
  },
  {
   "cell_type": "code",
   "execution_count": 12,
   "id": "7e31cb87",
   "metadata": {},
   "outputs": [
    {
     "data": {
      "text/plain": [
       "Array([[ 9.99974428e-01+1.58868305e-06j,  9.99975205e-01+1.53824963e-06j,\n",
       "         9.99975957e-01+1.48781612e-06j, ...,\n",
       "         9.99975957e-01-1.48781612e-06j,  9.99975205e-01-1.53824963e-06j,\n",
       "         9.99974428e-01-1.58868305e-06j],\n",
       "       [ 1.99409489e-02+1.00844296e-04j,  2.51737951e-02+9.88969663e-05j,\n",
       "         2.87865908e-02+9.66062451e-05j, ...,\n",
       "         2.87865908e-02-9.66062451e-05j,  2.51737951e-02-9.88969663e-05j,\n",
       "         1.99409489e-02-1.00844296e-04j],\n",
       "       [-4.18926446e-03+1.78558393e-04j, -8.37952708e-03+2.31490813e-04j,\n",
       "        -1.04533072e-02+2.89993323e-04j, ...,\n",
       "        -1.04533072e-02-2.89993323e-04j, -8.37952708e-03-2.31490813e-04j,\n",
       "        -4.18926446e-03-1.78558393e-04j],\n",
       "       ...,\n",
       "       [-2.41470533e-03+3.34347561e-04j,  8.84067724e-04-6.28219177e-04j,\n",
       "         6.73372641e-04-2.45685198e-04j, ...,\n",
       "         6.73372641e-04+2.45685198e-04j,  8.84067724e-04+6.28219177e-04j,\n",
       "        -2.41470533e-03-3.34347561e-04j],\n",
       "       [-4.54153014e-03-2.25094058e-03j, -2.91775439e-03-1.03672414e-03j,\n",
       "        -2.30679236e-03+1.49096381e-03j, ...,\n",
       "        -2.30679236e-03-1.49096381e-03j, -2.91775439e-03+1.03672414e-03j,\n",
       "        -4.54153014e-03+2.25094058e-03j],\n",
       "       [-1.96568758e-02-4.87960349e-03j, -1.03165969e-02-6.09055855e-03j,\n",
       "        -3.76758050e-03-2.48645010e-03j, ...,\n",
       "        -3.76758050e-03+2.48645010e-03j, -1.03165969e-02+6.09055855e-03j,\n",
       "        -1.96568758e-02+4.87960349e-03j]], dtype=complex128)"
      ]
     },
     "execution_count": 12,
     "metadata": {},
     "output_type": "execute_result"
    }
   ],
   "source": [
    "ELRgrad"
   ]
  },
  {
   "cell_type": "code",
   "execution_count": null,
   "id": "1a3e2aeb",
   "metadata": {},
   "outputs": [],
   "source": []
  }
 ],
 "metadata": {
  "kernelspec": {
   "display_name": "Python 3 (ipykernel)",
   "language": "python",
   "name": "python3"
  },
  "language_info": {
   "codemirror_mode": {
    "name": "ipython",
    "version": 3
   },
   "file_extension": ".py",
   "mimetype": "text/x-python",
   "name": "python",
   "nbconvert_exporter": "python",
   "pygments_lexer": "ipython3",
   "version": "3.9.15"
  }
 },
 "nbformat": 4,
 "nbformat_minor": 5
}
