{
 "cells": [
  {
   "cell_type": "markdown",
   "id": "d56dbb21",
   "metadata": {},
   "source": [
    "# Introduction: Interferometry vs. photometry\n",
    "\n",
    "\n",
    "Let's say we have a spherical star whose intensity map, projected into a 2D at a specific vieweing orientation, is defined as $I(x,y)$. Finding the total brightness of the star at that orientation is a sum over the visible surface of the star: \n",
    "\n",
    " $$ F = \\iint I(x,y)dx dy $$\n",
    " \n",
    " \n",
    " This problem of fiding the disk-integrated brightness of a star--the observable quantity of photometry--has been solved in the [starry package](https://arxiv.org/abs/1810.06559) in a rather elegant way that, among other things, permits a description of the information content of photometric data. This is done first by representing the surface map of a star using [spherical harmonics](https://en.wikipedia.org/wiki/Spherical_harmonics). If the 3d surface of a star is represented using spherical harmonic coefficients $\\mathbf{y}$, then we can write the intensity map as:\n",
    " \n",
    "$$I(x,y) = \\mathbf{\\tilde{y}}^\\top(x,y) \\ \\mathbf{R} \\ \\mathbf{y}$$\n",
    "\n",
    "where $\\mathbf{\\tilde{y}}^\\top(x,y)$ is the spherical harmonic basis, $\\mathbf{R}$ is the rotation matrix into the correct viewing orientation with the viewer at $+\\infty$ along the z axis and $\\mathbf{y}$ is the vector of spherical harmonic coefficients. Because spherical harmonics form an orthonormal basis on a unit sphere, *any* map can be represented using a sufficiently high order expansion in the spherical harmonics. This makes it a natural choice to represent the surface of a star.\n",
    "\n",
    "The real achievement of starry was to find an analytic way of performing the surface integral where a star is represented using spherical harmonics. This makes it extremely fast to compute photometric observables--light curves-- as a star rotates or even as a planet occults it. \n",
    "\n",
    "In this notebook, I will attempt to show that it is possible to use the same elegant description of the surface of a star in terms of spherical harmonics to find analytic observables used in interferometry. Recall that interferometric observations record a quantity called the visibility. The van-Cittert Zernike theorem relates the intensity map of a star to its visibility using a different kind of double integral from the one for photometry--the Fourier transform:\n",
    "\n",
    "$$ V(u,v) = \\iint I(x,y) e^{i(ux + vy)} dxdy $$\n",
    "\n",
    "Where $V$ is the visibility at baseline (u,v). This integral is similar but not identical to the one from photometry, and a similar intuition should be able to help solve it. Remember that the spherical harmonic basis $\\mathbf{\\tilde{y}}^\\top(x,y)$ is simply a polynomial, and therefore can be turned into a polynomial basis:\n",
    "\n",
    "$$ \\mathbf{\\tilde{p}}^\\top(x,y) = \\mathbf{A} \\ \\mathbf{\\tilde{y}}(x,y)$$\n",
    "\n",
    "\n",
    "Next, we must find a way to take the Fourier transform of the surface map as a polynomial. Although this may be difficult in our polynomial basis, there is an ideal choice for a basis defined on a unit disk which has an analytic Fourier transform--the Zernikes. \n",
    "\n",
    "What we must do is find another change of basis matrix $\\mathbf{B}$ for which\n",
    "\n",
    "$$ \\mathbf{\\tilde{z}}^\\top(x,y) = \\mathbf{B} \\ \\mathbf{\\tilde{p}}(x,y) $$\n",
    "\n",
    "where $\\mathbf{\\tilde{z}}$ is the zernike basis. If we can find such a matrix $\\mathbf{B}$, we can solve the Fourier integral as follows:\n",
    "\n",
    "$$ V(u,v) = \\mathbf{z}^\\top \\mathbf{B} \\ \\mathbf{A} \\ \\mathbf{y}$$\n",
    "\n",
    "where $\\mathbf{z}$ is the solution vector--the Fourier integral applied analytically to each term of the Zernike basis and written as a vector. "
   ]
  },
  {
   "cell_type": "code",
   "execution_count": 4,
   "id": "fb98ba8d",
   "metadata": {},
   "outputs": [],
   "source": [
    "import sympy as sp\n",
    "from sympy import symbols, sin, cos, Matrix, Eq, Rational, floor, sqrt\n",
    "from sympy import simplify, factorial, pi, binomial, factor, expand, collect\n",
    "from sympy.functions.special.tensor_functions import KroneckerDelta\n",
    "from sympy import init_printing\n",
    "import matplotlib.pyplot as plt\n",
    "import numpy as np\n",
    "from ipywidgets import *\n",
    "import pandas as pd\n",
    "from sympy import latex\n",
    "from scipy.optimize import curve_fit\n",
    "from IPython.display import display, Math\n",
    "from hswfs import zernike"
   ]
  },
  {
   "cell_type": "markdown",
   "id": "ad043543",
   "metadata": {},
   "source": [
    "Lets show the first 15 terms in the polynomial basis $ \\mathbf{\\tilde{p}}(x,y) $:"
   ]
  },
  {
   "cell_type": "code",
   "execution_count": 27,
   "id": "0722db81",
   "metadata": {},
   "outputs": [
    {
     "data": {
      "text/latex": [
       "$\\displaystyle \\left[\\begin{matrix}1\\\\x\\\\\\sqrt{- x^{2} - y^{2} + 1}\\\\y\\\\x^{2}\\\\x \\sqrt{- x^{2} - y^{2} + 1}\\\\x y\\\\y \\sqrt{- x^{2} - y^{2} + 1}\\\\y^{2}\\\\x^{3}\\\\x^{2} \\sqrt{- x^{2} - y^{2} + 1}\\\\x^{2} y\\\\x y \\sqrt{- x^{2} - y^{2} + 1}\\\\x y^{2}\\\\y^{2} \\sqrt{- x^{2} - y^{2} + 1}\\end{matrix}\\right]$"
      ],
      "text/plain": [
       "Matrix([\n",
       "[                          1],\n",
       "[                          x],\n",
       "[     sqrt(-x**2 - y**2 + 1)],\n",
       "[                          y],\n",
       "[                       x**2],\n",
       "[   x*sqrt(-x**2 - y**2 + 1)],\n",
       "[                        x*y],\n",
       "[   y*sqrt(-x**2 - y**2 + 1)],\n",
       "[                       y**2],\n",
       "[                       x**3],\n",
       "[x**2*sqrt(-x**2 - y**2 + 1)],\n",
       "[                     x**2*y],\n",
       "[ x*y*sqrt(-x**2 - y**2 + 1)],\n",
       "[                     x*y**2],\n",
       "[y**2*sqrt(-x**2 - y**2 + 1)]])"
      ]
     },
     "execution_count": 27,
     "metadata": {},
     "output_type": "execute_result"
    }
   ],
   "source": [
    "def poly_basis(n, x, y):\n",
    "    \"\"\"Return the n^th term in the polynomial basis.\"\"\"\n",
    "    l = Rational(floor(sqrt(n)))\n",
    "    m = Rational(n - l * l - l)\n",
    "    mu = Rational(l - m)\n",
    "    nu = Rational(l + m)\n",
    "    if nu % 2 == 0:\n",
    "        i = Rational(mu, 2)\n",
    "        j = Rational(nu, 2)\n",
    "        k = Rational(0)\n",
    "    else:\n",
    "        i = Rational(mu - 1, 2)\n",
    "        j = Rational(nu - 1, 2)\n",
    "        k = Rational(1)\n",
    "    return x ** i * y ** j * sqrt(1 - x ** 2 - y ** 2) ** k\n",
    "\n",
    "\n",
    "# Compute the polynomial basis\n",
    "x, y, z = sp.symbols('x, y, z')\n",
    "basis = Matrix([poly_basis(n, x, y) for n in range(15)]).T\n",
    "\n",
    "def Coefficient(expression, term):\n",
    "    \"\"\"Return the coefficient multiplying `term` in `expression`.\"\"\"\n",
    "    # Get the coefficient\n",
    "    coeff = expression.coeff(term)\n",
    "    if term==1:\n",
    "        coeff = expression.subs(sqrt(1 - x ** 2 - y ** 2), 0).subs(x, 0).subs(y, 0)\n",
    "    # Set any non-constants in this coefficient to zero. If the coefficient\n",
    "    # is not a constant, this is not the term we are interested in!\n",
    "    coeff = coeff.subs(sqrt(1 - x ** 2 - y ** 2), 0).subs(x, 0).subs(y, 0)\n",
    "    return coeff\n",
    "\n",
    "pbasis = Matrix([term for term in basis])\n",
    "pbasis"
   ]
  },
  {
   "cell_type": "markdown",
   "id": "016b4220",
   "metadata": {},
   "source": [
    "Now the first 15 terms in the zernike basis $\\mathbf{\\tilde{z}}(x,y)$:"
   ]
  },
  {
   "cell_type": "code",
   "execution_count": 28,
   "id": "f5f14095",
   "metadata": {},
   "outputs": [
    {
     "data": {
      "text/latex": [
       "$\\displaystyle \\left[\\begin{matrix}1\\\\2 y\\\\2 x\\\\2 \\sqrt{6} x y\\\\\\sqrt{3} \\cdot \\left(2 x^{2} + 2 y^{2} - 1\\right)\\\\\\sqrt{6} \\left(x^{2} - y^{2}\\right)\\\\2 \\sqrt{2} \\left(x^{2} + y^{2}\\right)^{\\frac{3}{2}} \\sin{\\left(3 \\operatorname{atan_{2}}{\\left(y,x \\right)} \\right)}\\\\2 \\sqrt{2} y \\left(3 x^{2} + 3 y^{2} - 2\\right)\\\\2 \\sqrt{2} x \\left(3 x^{2} + 3 y^{2} - 2\\right)\\\\2 \\sqrt{2} \\left(x^{2} + y^{2}\\right)^{\\frac{3}{2}} \\cos{\\left(3 \\operatorname{atan_{2}}{\\left(y,x \\right)} \\right)}\\\\4 \\sqrt{10} x y \\left(x^{2} - y^{2}\\right)\\\\2 \\sqrt{10} x y \\left(4 x^{2} + 4 y^{2} - 3\\right)\\\\\\sqrt{5} \\left(- 6 x^{2} - 6 y^{2} + 6 \\left(x^{2} + y^{2}\\right)^{2} + 1\\right)\\\\- \\frac{\\sqrt{10} \\left(x^{2} - y^{2}\\right) \\left(3 x^{2} + 3 y^{2} - 4 \\left(x^{2} + y^{2}\\right)^{2}\\right)}{x^{2} + y^{2}}\\\\\\sqrt{10} \\left(x^{4} - 6 x^{2} y^{2} + y^{4}\\right)\\end{matrix}\\right]$"
      ],
      "text/plain": [
       "Matrix([\n",
       "[                                                                           1],\n",
       "[                                                                         2*y],\n",
       "[                                                                         2*x],\n",
       "[                                                               2*sqrt(6)*x*y],\n",
       "[                                               sqrt(3)*(2*x**2 + 2*y**2 - 1)],\n",
       "[                                                       sqrt(6)*(x**2 - y**2)],\n",
       "[                           2*sqrt(2)*(x**2 + y**2)**(3/2)*sin(3*atan2(y, x))],\n",
       "[                                           2*sqrt(2)*y*(3*x**2 + 3*y**2 - 2)],\n",
       "[                                           2*sqrt(2)*x*(3*x**2 + 3*y**2 - 2)],\n",
       "[                           2*sqrt(2)*(x**2 + y**2)**(3/2)*cos(3*atan2(y, x))],\n",
       "[                                                4*sqrt(10)*x*y*(x**2 - y**2)],\n",
       "[                                        2*sqrt(10)*x*y*(4*x**2 + 4*y**2 - 3)],\n",
       "[                         sqrt(5)*(-6*x**2 - 6*y**2 + 6*(x**2 + y**2)**2 + 1)],\n",
       "[-sqrt(10)*(x**2 - y**2)*(3*x**2 + 3*y**2 - 4*(x**2 + y**2)**2)/(x**2 + y**2)],\n",
       "[                                        sqrt(10)*(x**4 - 6*x**2*y**2 + y**4)]])"
      ]
     },
     "execution_count": 28,
     "metadata": {},
     "output_type": "execute_result"
    }
   ],
   "source": [
    "zbasis = Matrix([zernike.ZernikePolynomial(j=j).cartesian.simplify() for j in range(15)])\n",
    "zbasis"
   ]
  },
  {
   "cell_type": "markdown",
   "id": "16954c1a",
   "metadata": {},
   "source": [
    "## Change of basis matrix:\n",
    "\n",
    "Now lets write a single term in the zernike basis into the polynomial basis. Writing these vectors as the columns of a matrix for each term in the zernike basis should give us our change of basis matrix (or is it the inverse??):"
   ]
  },
  {
   "cell_type": "code",
   "execution_count": 43,
   "id": "490bbc2c",
   "metadata": {},
   "outputs": [
    {
     "data": {
      "text/latex": [
       "$\\displaystyle \\left[\\begin{matrix}- \\sqrt{3}\\\\0\\\\0\\\\0\\\\2 \\sqrt{3}\\\\0\\\\0\\\\0\\\\2 \\sqrt{3}\\\\0\\\\0\\\\0\\\\0\\\\0\\\\0\\end{matrix}\\right]$"
      ],
      "text/plain": [
       "Matrix([\n",
       "[ -sqrt(3)],\n",
       "[        0],\n",
       "[        0],\n",
       "[        0],\n",
       "[2*sqrt(3)],\n",
       "[        0],\n",
       "[        0],\n",
       "[        0],\n",
       "[2*sqrt(3)],\n",
       "[        0],\n",
       "[        0],\n",
       "[        0],\n",
       "[        0],\n",
       "[        0],\n",
       "[        0]])"
      ]
     },
     "execution_count": 43,
     "metadata": {},
     "output_type": "execute_result"
    }
   ],
   "source": [
    "vec = Matrix([Coefficient(sp.expand(zernike.ZernikePolynomial(j=4).cartesian), term) for term in basis])\n",
    "vec"
   ]
  }
 ],
 "metadata": {
  "kernelspec": {
   "display_name": "Python 3 (ipykernel)",
   "language": "python",
   "name": "python3"
  },
  "language_info": {
   "codemirror_mode": {
    "name": "ipython",
    "version": 3
   },
   "file_extension": ".py",
   "mimetype": "text/x-python",
   "name": "python",
   "nbconvert_exporter": "python",
   "pygments_lexer": "ipython3",
   "version": "3.9.15"
  }
 },
 "nbformat": 4,
 "nbformat_minor": 5
}
