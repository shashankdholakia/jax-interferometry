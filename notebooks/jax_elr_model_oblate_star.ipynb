{
 "cells": [
  {
   "cell_type": "markdown",
   "id": "3f24c361",
   "metadata": {},
   "source": [
    "# Jaxified ELR model for gravity darkening on a rapidly rotating star:\n",
    "\n",
    "In this notebook, I will show a particular model for generating a 3d rendering of a rapidly rotating star--the Espinosa Lara and Rieutord (2011) model. First, I will show an unvectorized version taken from [Gdit package](https://github.com/aarondotter/GDit/blob/master/GDit.py). Then, I will show my vectorized and autodiff-able model written in Jax, which should be much faster, especially for inference. "
   ]
  },
  {
   "cell_type": "code",
   "execution_count": 1,
   "id": "8370db98",
   "metadata": {},
   "outputs": [],
   "source": [
    "import numpy as np\n",
    "import matplotlib.pyplot as plt\n",
    "from scipy.optimize import root\n",
    "\n",
    "import colorpy\n",
    "from colorpy import colormodels\n",
    "from colorpy import blackbody"
   ]
  },
  {
   "cell_type": "markdown",
   "id": "d918201e",
   "metadata": {},
   "source": [
    "## Unvectorized ELR Model:\n",
    "Here is the unvectorized ELR model solver (taken from [Gdit package](https://github.com/aarondotter/GDit/blob/master/GDit.py)):\n",
    "\n",
    "It takes a latitude angle $\\theta$ and a rotation rate $\\omega$ from 0-1 (1 being the critical rotation rate a.k.a breakup velocuty) and returns three parameters: the radius from the center of the star at that latitude, the flux and temperature as a fraction of the flux and temperature at the pole. "
   ]
  },
  {
   "cell_type": "code",
   "execution_count": 2,
   "id": "95dc8ac1",
   "metadata": {},
   "outputs": [],
   "source": [
    "#constants\n",
    "G=6.67428e-8\n",
    "sigma=5.67040e-5\n",
    "f23=2.0/3.0\n",
    "Lsun=3.8418e33\n",
    "Msun=1.989e33\n",
    "Rsun=6.96e10\n",
    "\n",
    "#ELR11 equations\n",
    "#gives the value of phi\n",
    "def eq24(phi,theta,omega,rtw):\n",
    "    tau = (pow(omega,2) * pow(rtw*np.cos(theta),3) )/3.0 + np.cos(theta) + np.log(np.tan(0.5*theta))\n",
    "    return np.cos(phi) + np.log(np.tan(0.5*phi)) - tau\n",
    "\n",
    "#solve for rtw given omega\n",
    "def eq30(rtw,theta,omega):\n",
    "    w2=omega*omega\n",
    "    return (1./w2)*(1./rtw - 1.0) + 0.5*(pow(rtw*np.sin(theta),2) - 1.0)\n",
    "\n",
    "\n",
    "\n",
    "def solve_ELR(omega,theta): #eq.26, 27, 28; solve the ELR11 equations\n",
    "    \"\"\"calculates r~, Teff_ratio, and Flux_ratio\"\"\"\n",
    "    #theta is the polar angle.\n",
    "    #this routine calculates values for 0 <= theta <= pi/2\n",
    "    #everything else is mapped into this interval by symmetry\n",
    "    # theta = 0 at the pole(s)\n",
    "    # theta = pi/2 at the equator\n",
    "    # -pi/2 < theta < 0: theta -> abs(theta)\n",
    "    #  pi/2 > theta > pi: theta -> pi - theta\n",
    "    if np.pi/2 < theta <= np.pi:\n",
    "        theta = np.pi - theta\n",
    "    if -np.pi/2 <= theta < 0:\n",
    "        theta = abs(theta)\n",
    "\n",
    "    if omega==0.0: #common sense\n",
    "        return np.ones(3)\n",
    "    \n",
    "    else:\n",
    "        #first we solve equation 30 for rtw\n",
    "        q = root(fun=eq30,args=(theta, omega), x0=1.0)\n",
    "        rtw = q['x'].item()\n",
    "\n",
    "        #the following are special solutions for extreme values of theta\n",
    "        w2r3=pow(omega,2)*pow(rtw,3)\n",
    "        \n",
    "        if theta==0.0: #pole, eq. 27\n",
    "            Fw = np.exp( f23 * w2r3 )\n",
    "\n",
    "        elif theta==0.5*np.pi: #equator, eq. 28\n",
    "            if omega < 1.0:\n",
    "                Fw = pow(1.0 - w2r3, -f23)\n",
    "            else:\n",
    "                Fw = 0.0\n",
    "\n",
    "        else: #general case for Fw\n",
    "            q = root(fun=eq24,args=(theta, omega, rtw), x0=theta)\n",
    "            phi = q['x'].item()\n",
    "            \n",
    "            Fw = pow(np.tan(phi)/np.tan(theta), 2)\n",
    "\n",
    "        #equation 31 and similar for Fw\n",
    "        term1 = pow(rtw,-4)\n",
    "        term2 = pow(omega,4)*pow(rtw*np.sin(theta),2)\n",
    "        term3 = -2*pow(omega*np.sin(theta),2)/rtw\n",
    "        gterm = np.sqrt(term1+term2+term3)\n",
    "        Flux_ratio = Fw*gterm\n",
    "        Teff_ratio = pow(Flux_ratio,0.25)\n",
    "        return rtw, Teff_ratio, Flux_ratio"
   ]
  },
  {
   "cell_type": "markdown",
   "id": "0aaff20d",
   "metadata": {},
   "source": [
    "Without vectorization, we can create an image of a star by iterating through each polar angle $\\theta$ within a for loop."
   ]
  },
  {
   "cell_type": "code",
   "execution_count": 3,
   "id": "87630036",
   "metadata": {},
   "outputs": [],
   "source": [
    "thetas = np.linspace(0, np.pi/2,100)\n",
    "omega = 0.9\n",
    "rtws = []\n",
    "Fs_unvec = []\n",
    "Ts = []\n",
    "for theta in thetas:\n",
    "    rtw, T, F = solve_ELR(omega, theta)\n",
    "    rtws.append(rtw)\n",
    "    Fs_unvec.append(F)\n",
    "    Ts.append(T)"
   ]
  },
  {
   "cell_type": "code",
   "execution_count": 4,
   "id": "8b5e45ea",
   "metadata": {},
   "outputs": [],
   "source": [
    "RTWs = np.array(rtws)\n",
    "Fs = np.array(Fs_unvec)\n",
    "Fmin=Fs.min()\n",
    "Fmax=Fs.max()\n",
    "Fs = (Fs)/(Fmax)\n",
    "\n",
    "irgbs = []\n",
    "for T in Ts:\n",
    "    xyz = blackbody.blackbody_color(np.rint(T*7700))\n",
    "    irgbs.append(colormodels.irgb_from_xyz(xyz))"
   ]
  },
  {
   "cell_type": "code",
   "execution_count": 5,
   "id": "84b36469",
   "metadata": {},
   "outputs": [
    {
     "data": {
      "image/png": "[encoded data removed]",
      "text/plain": [
       "<Figure size 640x480 with 1 Axes>"
      ]
     },
     "metadata": {},
     "output_type": "display_data"
    }
   ],
   "source": [
    "colors = np.array(irgbs)/255\n",
    "plt.xlim(-1.5, 1.5)\n",
    "plt.ylim(-1.5, 1.5)\n",
    "plt.gca().set_aspect('equal', adjustable='box')\n",
    "for F, rtw, color, theta in zip(Fs, RTWs, colors, thetas):\n",
    "    plt.plot([-rtw*np.sin(theta),rtw*np.sin(theta)], [rtw*np.cos(theta), rtw*np.cos(theta)], c=color*F)\n",
    "    plt.plot([-rtw*np.sin(theta),rtw*np.sin(theta)], [-rtw*np.cos(theta), -rtw*np.cos(theta)], c=color*F)"
   ]
  },
  {
   "cell_type": "markdown",
   "id": "4da8bc6a",
   "metadata": {},
   "source": [
    "Timing the above code:"
   ]
  },
  {
   "cell_type": "code",
   "execution_count": 6,
   "id": "6315aba5",
   "metadata": {},
   "outputs": [
    {
     "name": "stdout",
     "output_type": "stream",
     "text": [
      "12.2 ms ± 89.5 µs per loop (mean ± std. dev. of 7 runs, 100 loops each)\n"
     ]
    }
   ],
   "source": [
    "%%timeit\n",
    "thetas = np.linspace(0, np.pi/2,100)\n",
    "omega = 0.9\n",
    "rtws = []\n",
    "Fs_unvec = []\n",
    "Ts = []\n",
    "for theta in thetas:\n",
    "    rtw, T, F = solve_ELR(omega, theta)\n",
    "    rtws.append(rtw)\n",
    "    Fs_unvec.append(F)\n",
    "    Ts.append(T)"
   ]
  },
  {
   "cell_type": "markdown",
   "id": "a09d9079",
   "metadata": {},
   "source": [
    "## Vectorized ELR model in jax:\n",
    "\n",
    "Here, I code the above model in jax. The code above is unvectorized as it uses an unvectorized scipy root finder to solve the differential equations in the ELR 2011 paper. I instead use an implementation of a solver in the jaxopt package. To ensure numerical stability, I set the tolerance to 1e-14 and force the use of 64 bit floats. "
   ]
  },
  {
   "cell_type": "code",
   "execution_count": 7,
   "id": "485d2d18",
   "metadata": {},
   "outputs": [],
   "source": [
    "import jax\n",
    "import jax.numpy as jnp\n",
    "from jaxopt import Bisection\n",
    "import matplotlib.pyplot as plt\n",
    "from jax.lax import cond\n",
    "from jax.config import config\n",
    "config.update(\"jax_enable_x64\", True)\n",
    "\n",
    "\"\"\"\n",
    "Provide a vectorized and jaxed version of the ELR model for speed\n",
    "\"\"\"\n",
    "#constants\n",
    "G=6.67428e-8\n",
    "sigma=5.67040e-5\n",
    "f23=2.0/3.0\n",
    "Lsun=3.8418e33\n",
    "Msun=1.989e33\n",
    "Rsun=6.96e10\n",
    "\n",
    "#ELR11 equations\n",
    "#gives the value of phi\n",
    "def eq24_jax(phi,theta,omega,rtw):\n",
    "    tau = (jnp.power(omega,2) * jnp.power(rtw*jnp.cos(theta),3) )/3.0 + jnp.cos(theta) + jnp.log(jnp.tan(0.5*theta))\n",
    "    return jnp.cos(phi) + jnp.log(jnp.tan(0.5*phi)) - tau\n",
    "\n",
    "#solve for rtw given omega\n",
    "def eq30_jax(rtw,theta,omega):\n",
    "    #jaxed and vectorized\n",
    "    return (1./omega**2)*(1./rtw - 1.0) + 0.5*((rtw*jnp.sin(theta))**2 - 1.0)\n",
    "\n",
    "\n",
    "def solve_ELR_jax(omega, theta): #eq.26, 27, 28; solve the ELR11 equations\n",
    "    \"\"\"\n",
    "    \n",
    "    Takes a float omega where 0<=omega<1\n",
    "    and a single value theta, or polar angles in radians\n",
    "    \n",
    "    calculates r~, Teff_ratio, and Flux_ratio\n",
    "    \n",
    "    Can be vmapped to solve for an array of thetas (done below)\n",
    "\n",
    "    \"\"\"\n",
    "    #theta is the polar angle.\n",
    "    #this routine calculates values for 0 <= theta <= pi/2\n",
    "    #everything else is mapped into this interval by symmetry\n",
    "    # theta = 0 at the pole(s)\n",
    "    # theta = pi/2 at the equator\n",
    "    # -pi/2 < theta < 0: theta -> abs(theta)\n",
    "    #  pi/2 > theta > pi: theta -> pi - theta\n",
    "    theta = jnp.where(\n",
    "            jnp.logical_and(theta>jnp.pi/2, theta<=jnp.pi), #if\n",
    "            jnp.pi - theta, #then\n",
    "            theta #else\n",
    "            ) \n",
    "            \n",
    "    theta = jnp.where(\n",
    "            jnp.logical_and(theta>=-jnp.pi/2, theta<0),\n",
    "            jnp.abs(theta),\n",
    "            theta\n",
    "        )\n",
    "\n",
    "    #first we solve equation 30 for rtw\n",
    "    q = Bisection(optimality_fun=eq30_jax, lower=0,upper=1,check_bracket=False,tol=1e-14,maxiter=100)\n",
    "    rtw = q.run(jnp.ones_like(theta), **{\"theta\":theta, \"omega\":omega}).params\n",
    "    #the following are special solutions for extreme values of theta\n",
    "    w2r3=omega**2*rtw**3\n",
    "    q = Bisection(optimality_fun=eq24_jax, lower=0,upper=jnp.pi/2-1e-10,check_bracket=False,tol=1e-14,maxiter=100) \n",
    "    Fw = jnp.where(\n",
    "            theta==0, #if\n",
    "            jnp.exp( f23 * w2r3 ), #then\n",
    "            \n",
    "            jnp.where( \n",
    "                    theta==0.5*jnp.pi, #elsif\n",
    "                    (1.0 - w2r3)**(-f23), #then\n",
    "                    \n",
    "                    #very cumbersome way of computing the else case without a cond, see the unvectorized version for clarity\n",
    "                    (jnp.tan(q.run(theta, **{\"theta\":theta, \"omega\":omega, \"rtw\":rtw}).params) / jnp.tan(theta))**2\n",
    "                                    )\n",
    "                           )\n",
    "    #equation 31 and similar for Fw\n",
    "    term1 = rtw**(-4)\n",
    "    term2 = omega**4*(rtw*jnp.sin(theta))**2\n",
    "    term3 = -2*(omega*jnp.sin(theta))**2/rtw\n",
    "    gterm = jnp.sqrt(term1+term2+term3)\n",
    "    Flux_ratio = Fw*gterm\n",
    "    Teff_ratio = Flux_ratio**0.25\n",
    "    return rtw, Teff_ratio, Flux_ratio\n",
    "\n",
    "\n",
    "solve_ELR_vec = jax.jit(jax.vmap(solve_ELR_jax, in_axes=[None,0]))"
   ]
  },
  {
   "cell_type": "markdown",
   "id": "8dcd8135",
   "metadata": {},
   "source": [
    "Instead of iterating through polar angle $\\theta$ to render a full star map, I can use a linspace of angles:"
   ]
  },
  {
   "cell_type": "code",
   "execution_count": 12,
   "id": "895ebab6",
   "metadata": {},
   "outputs": [],
   "source": [
    "thetas = jnp.linspace(0.0, jnp.pi/2,100)\n",
    "omega = 0.9\n",
    "rtws, Ts, Fs = solve_ELR_vec(omega, thetas)"
   ]
  },
  {
   "cell_type": "code",
   "execution_count": 13,
   "id": "30f8a4ed",
   "metadata": {},
   "outputs": [
    {
     "data": {
      "image/png": "[encoded data removed]",
      "text/plain": [
       "<Figure size 640x480 with 1 Axes>"
      ]
     },
     "metadata": {},
     "output_type": "display_data"
    }
   ],
   "source": [
    "Fmin=Fs.min()\n",
    "Fmax=Fs.max()\n",
    "Fs = (Fs)/(Fmax)\n",
    "\n",
    "irgbs = []\n",
    "for T in Ts:\n",
    "    xyz = blackbody.blackbody_color(np.rint(T*7700))\n",
    "    irgbs.append(colormodels.irgb_from_xyz(xyz))\n",
    "\n",
    "colors = np.array(irgbs)/255\n",
    "\n",
    "plt.xlim(-1.5, 1.5)\n",
    "plt.ylim(-1.5, 1.5)\n",
    "plt.gca().set_aspect('equal', adjustable='box')\n",
    "for F, rtw, color, theta in zip(Fs, RTWs, colors, thetas):\n",
    "    plt.plot([-rtw*np.sin(theta),rtw*np.sin(theta)], [rtw*np.cos(theta), rtw*np.cos(theta)], c=color*F.item())\n",
    "    plt.plot([-rtw*np.sin(theta),rtw*np.sin(theta)], [-rtw*np.cos(theta), -rtw*np.cos(theta)], c=color*F.item())"
   ]
  },
  {
   "cell_type": "markdown",
   "id": "58fd4708",
   "metadata": {},
   "source": [
    "Now, timing the vectorized and jaxed code, we can see that it is about 50 times faster than the unvectorized version:"
   ]
  },
  {
   "cell_type": "code",
   "execution_count": 14,
   "id": "8cc388b6",
   "metadata": {},
   "outputs": [
    {
     "name": "stdout",
     "output_type": "stream",
     "text": [
      "233 µs ± 624 ns per loop (mean ± std. dev. of 7 runs, 1,000 loops each)\n"
     ]
    }
   ],
   "source": [
    "%%timeit\n",
    "thetas = jnp.linspace(0.0, jnp.pi/2,100)\n",
    "omega = 0.9\n",
    "rtws, Ts, Fs = solve_ELR_vec(omega, thetas)"
   ]
  }
 ],
 "metadata": {
  "kernelspec": {
   "display_name": "Python 3 (ipykernel)",
   "language": "python",
   "name": "python3"
  },
  "language_info": {
   "codemirror_mode": {
    "name": "ipython",
    "version": 3
   },
   "file_extension": ".py",
   "mimetype": "text/x-python",
   "name": "python",
   "nbconvert_exporter": "python",
   "pygments_lexer": "ipython3",
   "version": "3.9.15"
  }
 },
 "nbformat": 4,
 "nbformat_minor": 5
}
