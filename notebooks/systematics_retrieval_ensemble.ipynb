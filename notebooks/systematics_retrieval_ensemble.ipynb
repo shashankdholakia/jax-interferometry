{
 "cells": [
  {
   "cell_type": "markdown",
   "id": "829d2928",
   "metadata": {},
   "source": [
    "# Systematics retrieval on stars with/without calibrators:\n",
    "\n",
    "In this notebook, I will demonstrate the ability to simultanously fit for systematics along with the radius of stars. \n",
    "\n",
    "Firstly, I will take a trivial example most often seen with CHARA/PAVO data: observations of a star bracketed by observations of a calibrator which is assumed to be unresolved and has the same systematics as the target star. \n",
    "\n",
    "Then, I will extend this to N stars without an explicit calibrator--this should mimic the case where the calibrators are not fully unresolved, so they have a "
   ]
  },
  {
   "cell_type": "code",
   "execution_count": null,
   "id": "a4997851",
   "metadata": {},
   "outputs": [],
   "source": []
  }
 ],
 "metadata": {
  "kernelspec": {
   "display_name": "Python 3 (ipykernel)",
   "language": "python",
   "name": "python3"
  },
  "language_info": {
   "codemirror_mode": {
    "name": "ipython",
    "version": 3
   },
   "file_extension": ".py",
   "mimetype": "text/x-python",
   "name": "python",
   "nbconvert_exporter": "python",
   "pygments_lexer": "ipython3",
   "version": "3.9.15"
  }
 },
 "nbformat": 4,
 "nbformat_minor": 5
}
